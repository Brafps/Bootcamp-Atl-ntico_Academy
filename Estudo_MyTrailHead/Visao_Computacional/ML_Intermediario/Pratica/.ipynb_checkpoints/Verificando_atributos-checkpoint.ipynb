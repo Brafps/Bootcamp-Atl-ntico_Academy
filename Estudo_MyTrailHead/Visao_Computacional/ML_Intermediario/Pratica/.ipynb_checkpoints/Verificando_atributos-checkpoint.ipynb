{
 "cells": [
  {
   "cell_type": "code",
   "execution_count": 1,
   "id": "3cfa5e6c",
   "metadata": {},
   "outputs": [],
   "source": [
    "import os\n",
    "import cv2\n",
    "import matplotlib.pyplot as plt\n",
    "import numpy as np\n",
    "import pandas as pd\n",
    "from random import shuffle\n",
    "from sklearn.model_selection import train_test_split\n",
    "from sklearn import metrics,svm\n",
    "from sklearn.metrics import classification_report\n",
    "from sklearn.ensemble import RandomForestClassifier\n",
    "from sklearn.neural_network import MLPClassifier\n",
    "from sklearn.neighbors import KNeighborsClassifier\n",
    "from sklearn.linear_model import SGDClassifier\n",
    "from sklearn.naive_bayes import GaussianNB\n",
    "from sklearn import tree\n",
    "from skimage.measure import regionprops\n",
    "from skimage.filters import threshold_otsu\n",
    "from sklearn.preprocessing import MaxAbsScaler"
   ]
  },
  {
   "cell_type": "markdown",
   "id": "610eee51",
   "metadata": {},
   "source": [
    "## Preparando o dataset "
   ]
  },
  {
   "cell_type": "code",
   "execution_count": 2,
   "id": "01f46a3a",
   "metadata": {},
   "outputs": [],
   "source": [
    "def load_data(datadir, classes, img_size=100):\n",
    "    training_data = []\n",
    "    label = []\n",
    "    for classe in range(len(classes)):\n",
    "        path = os.path.join(datadir, classes[classe])\n",
    "        shufled_list  = list(os.listdir(path))\n",
    "        shuffle(shufled_list)\n",
    "        for img in shufled_list:\n",
    "            img_array = cv2.imread(os.path.join(path, img), cv2.IMREAD_GRAYSCALE)\n",
    "            img_array = cv2.resize(img_array, (img_size, img_size))\n",
    "            unique = np.unique(img_array)\n",
    "            if len(unique) == 1:\n",
    "                continue\n",
    "            training_data.append(img_array)\n",
    "            label.append(classe)\n",
    "    return training_data , label"
   ]
  },
  {
   "cell_type": "code",
   "execution_count": 3,
   "id": "44149bfa",
   "metadata": {},
   "outputs": [],
   "source": [
    "data , label = load_data('dataset/geometric',['circle','square','star','triangle'])"
   ]
  },
  {
   "cell_type": "markdown",
   "id": "6b8b2075",
   "metadata": {},
   "source": [
    "## Extração de atributos"
   ]
  },
  {
   "cell_type": "code",
   "execution_count": 4,
   "id": "b25917c5",
   "metadata": {},
   "outputs": [],
   "source": [
    "def get_contours_param(contour):\n",
    "    contour_area = contour[0].filled_area\n",
    "    contour_perimeter = contour[0].perimeter\n",
    "    contour_convex_area = contour[0].convex_area\n",
    "    diameter = contour[0].equivalent_diameter\n",
    "    return contour_area , contour_perimeter, contour_convex_area, diameter"
   ]
  },
  {
   "cell_type": "code",
   "execution_count": 5,
   "id": "368c639c",
   "metadata": {},
   "outputs": [],
   "source": [
    "def features_extraction(images):\n",
    "    features_list = []\n",
    "    for image in images:\n",
    "        thresh = threshold_otsu(image)\n",
    "        binary = np.array(image > thresh).astype(int)\n",
    "        white_pixel = np.where(binary > 0)\n",
    "        if len(white_pixel[0]) > 7000:\n",
    "            binary = abs(1-binary) # ajuste de imagens negativas\n",
    "        regions = regionprops(binary)\n",
    "        contour_area , contour_perimeter, contour_convex_area, diameter = get_contours_param(regions)\n",
    "        features_list.append([contour_area , contour_perimeter, contour_convex_area, diameter])\n",
    "    norm =  MaxAbsScaler()\n",
    "    norm.fit(features_list)\n",
    "    norm_features = norm.transform(features_list)\n",
    "    return norm_features"
   ]
  },
  {
   "cell_type": "code",
   "execution_count": 6,
   "id": "a7d2338c",
   "metadata": {},
   "outputs": [],
   "source": [
    "features = features_extraction(data)"
   ]
  },
  {
   "cell_type": "markdown",
   "id": "57346edb",
   "metadata": {},
   "source": [
    "## Treinamento e Teste dos Classificadores"
   ]
  },
  {
   "cell_type": "code",
   "execution_count": 7,
   "id": "59e7a2ca",
   "metadata": {},
   "outputs": [],
   "source": [
    "def generate_svm_model(train_data,label_train_data,test_data):\n",
    "    clf = svm.SVC(kernel='linear')\n",
    "    clf.fit(train_data, label_train_data)\n",
    "    predicted = clf.predict(test_data)\n",
    "    return predicted\n",
    "def generate_SGDC_model(train_data,label_train_data,test_data):\n",
    "    clf = SGDClassifier(loss=\"hinge\", penalty=\"l2\", max_iter=200)\n",
    "    clf.fit(train_data, label_train_data)\n",
    "    predicted = clf.predict(test_data)\n",
    "    return predicted\n",
    "def generate_naive_bayes_model(train_data,label_train_data,test_data):\n",
    "    gnb = GaussianNB()\n",
    "    gnb.fit(train_data, label_train_data)\n",
    "    predicted = gnb.predict(test_data)\n",
    "    return predicted\n",
    "def generate_decision_tree_model(train_data,label_train_data,test_data):\n",
    "    clf = tree.DecisionTreeClassifier()\n",
    "    clf = clf.fit(train_data, label_train_data)\n",
    "    predicted = clf.predict(test_data)\n",
    "    return predicted\n",
    "def generate_random_forest_model(X_train, y_train,test_data):\n",
    "    rfc = RandomForestClassifier(criterion= 'entropy', max_depth= 8, max_features='auto', n_estimators=200)\n",
    "    rfc.fit(X_train,y_train)\n",
    "    predicted = rfc.predict(test_data)\n",
    "    return predicted\n",
    "def generate_MLP_model(X_train, y_train,test_data):\n",
    "    classifier = MLPClassifier(hidden_layer_sizes=(100,100,100), max_iter=300,activation = 'relu',solver='adam',random_state=1)\n",
    "    classifier.fit(X_train, y_train)\n",
    "    predicted = classifier.predict(test_data)\n",
    "    return predicted\n",
    "def generate_knn_model(train_data,label_train_data,test_data):\n",
    "    knn = KNeighborsClassifier()\n",
    "    knn.fit(train_data,label_train_data)\n",
    "    predicted = knn.predict(test_data)\n",
    "    return predicted"
   ]
  },
  {
   "cell_type": "code",
   "execution_count": 8,
   "id": "82ca57b9",
   "metadata": {},
   "outputs": [],
   "source": [
    "def gen_classifiers(train_data,label_train_data,test_data):\n",
    "    return generate_knn_model(train_data,label_train_data,test_data),\\\n",
    "    generate_MLP_model(train_data,label_train_data,test_data),\\\n",
    "    generate_SGDC_model(train_data,label_train_data,test_data),\\\n",
    "    generate_svm_model(train_data,label_train_data,test_data),\\\n",
    "    generate_decision_tree_model(train_data,label_train_data,test_data),\\\n",
    "    generate_naive_bayes_model(train_data,label_train_data,test_data),\\\n",
    "    generate_random_forest_model(train_data,label_train_data,test_data),\n"
   ]
  },
  {
   "cell_type": "code",
   "execution_count": 9,
   "id": "4b119ed3",
   "metadata": {
    "scrolled": true
   },
   "outputs": [
    {
     "name": "stderr",
     "output_type": "stream",
     "text": [
      "C:\\Users\\brsam\\anaconda3\\lib\\site-packages\\sklearn\\ensemble\\_forest.py:427: FutureWarning: `max_features='auto'` has been deprecated in 1.1 and will be removed in 1.3. To keep the past behaviour, explicitly set `max_features='sqrt'` or remove this parameter as it is also the default value for RandomForestClassifiers and ExtraTreesClassifiers.\n",
      "  warn(\n"
     ]
    }
   ],
   "source": [
    "X_train, X_test, y_train, y_test = train_test_split(features, label, test_size=0.3)\n",
    "\n",
    "results = gen_classifiers(X_train, y_train, X_test)"
   ]
  },
  {
   "cell_type": "markdown",
   "id": "58883b08",
   "metadata": {},
   "source": [
    "## Avaliação dos classificadores"
   ]
  },
  {
   "cell_type": "code",
   "execution_count": 10,
   "id": "9192590b",
   "metadata": {
    "scrolled": true
   },
   "outputs": [
    {
     "data": {
      "text/plain": [
       "7"
      ]
     },
     "execution_count": 10,
     "metadata": {},
     "output_type": "execute_result"
    }
   ],
   "source": [
    "Classificadores = [\"kNN\", \"MLP\", \"SGDC\", \"SVM\", \"DT\", \"NB\", \"RF\"]\n",
    "len(Classificadores)"
   ]
  },
  {
   "cell_type": "code",
   "execution_count": 11,
   "id": "574e4f10",
   "metadata": {},
   "outputs": [
    {
     "data": {
      "text/plain": [
       "array([0.97445255, 0.98540146, 0.71715328, 0.65693431, 0.93978102,\n",
       "       0.52737226, 0.91240876])"
      ]
     },
     "execution_count": 11,
     "metadata": {},
     "output_type": "execute_result"
    }
   ],
   "source": [
    "#Acurácia\n",
    "\n",
    "Resultados_acc = []\n",
    "for i in range(len(Classificadores)):\n",
    "    acc = metrics.accuracy_score(y_test, results[i])\n",
    "    Resultados_acc.append(acc)\n",
    "resultados_acc = np.array(Resultados_acc)\n",
    "resultados_acc"
   ]
  },
  {
   "cell_type": "code",
   "execution_count": 12,
   "id": "36ef1ccc",
   "metadata": {},
   "outputs": [
    {
     "data": {
      "text/plain": [
       "[array([0.92982456, 0.93333333, 1.        , 1.        ]),\n",
       " array([0.94736842, 0.97777778, 1.        , 1.        ]),\n",
       " array([0.69298246, 0.        , 1.        , 0.82857143]),\n",
       " array([0.48245614, 0.        , 0.76923077, 1.        ]),\n",
       " array([0.96491228, 0.76666667, 0.98224852, 0.97142857]),\n",
       " array([0.24561404, 0.25555556, 0.50887574, 0.86857143]),\n",
       " array([0.86842105, 0.63333333, 1.        , 1.        ])]"
      ]
     },
     "execution_count": 12,
     "metadata": {},
     "output_type": "execute_result"
    }
   ],
   "source": [
    "# Revogação\n",
    "\n",
    "Resultados_rev = []\n",
    "for i in range(len(Classificadores)):\n",
    "    recall = metrics.recall_score(y_test,results[i],average=None)\n",
    "    Resultados_rev.append(recall)\n",
    "Resultados_rev"
   ]
  },
  {
   "cell_type": "code",
   "execution_count": 13,
   "id": "0b7e872c",
   "metadata": {},
   "outputs": [
    {
     "data": {
      "text/html": [
       "<div>\n",
       "<style scoped>\n",
       "    .dataframe tbody tr th:only-of-type {\n",
       "        vertical-align: middle;\n",
       "    }\n",
       "\n",
       "    .dataframe tbody tr th {\n",
       "        vertical-align: top;\n",
       "    }\n",
       "\n",
       "    .dataframe thead tr th {\n",
       "        text-align: left;\n",
       "    }\n",
       "</style>\n",
       "<table border=\"1\" class=\"dataframe\">\n",
       "  <thead>\n",
       "    <tr>\n",
       "      <th></th>\n",
       "      <th>kNN</th>\n",
       "      <th>MLP</th>\n",
       "      <th>SGDC</th>\n",
       "      <th>SVM</th>\n",
       "      <th>DT</th>\n",
       "      <th>NB</th>\n",
       "      <th>RF</th>\n",
       "    </tr>\n",
       "  </thead>\n",
       "  <tbody>\n",
       "    <tr>\n",
       "      <th>accuracy</th>\n",
       "      <td>0.974453</td>\n",
       "      <td>0.985401</td>\n",
       "      <td>0.717153</td>\n",
       "      <td>0.656934</td>\n",
       "      <td>0.939781</td>\n",
       "      <td>0.527372</td>\n",
       "      <td>0.912409</td>\n",
       "    </tr>\n",
       "  </tbody>\n",
       "</table>\n",
       "</div>"
      ],
      "text/plain": [
       "               kNN       MLP      SGDC       SVM        DT        NB        RF\n",
       "accuracy  0.974453  0.985401  0.717153  0.656934  0.939781  0.527372  0.912409"
      ]
     },
     "metadata": {},
     "output_type": "display_data"
    }
   ],
   "source": [
    "# criando um dataframe para visualização\n",
    "\n",
    "import pandas as pd\n",
    "\n",
    "    \n",
    "\n",
    "df = pd.DataFrame([resultados_acc], columns = [Classificadores], index = [\"accuracy\"])\n",
    "\n",
    "display(df)"
   ]
  },
  {
   "cell_type": "code",
   "execution_count": 14,
   "id": "b4986510",
   "metadata": {
    "scrolled": true
   },
   "outputs": [
    {
     "name": "stdout",
     "output_type": "stream",
     "text": [
      " A precisão do kNN é [0.96363636 0.91304348 1.         0.98870056]\n",
      " A precisão do MLP é [0.98181818 0.93617021 1.         1.        ]\n",
      " A precisão do SGDC é [0.60769231 0.         0.87564767 0.64444444]\n",
      " A precisão do SVM é [0.74324324 0.         1.         0.50872093]\n",
      " A precisão do DT é [0.90909091 0.88461538 1.         0.92896175]\n",
      " A precisão do NB é [0.65116279 0.32394366 1.         0.43678161]\n",
      " A precisão do RF é [0.91666667 0.96610169 1.         0.8254717 ]\n"
     ]
    },
    {
     "name": "stderr",
     "output_type": "stream",
     "text": [
      "C:\\Users\\brsam\\anaconda3\\lib\\site-packages\\sklearn\\metrics\\_classification.py:1334: UndefinedMetricWarning: Precision is ill-defined and being set to 0.0 in labels with no predicted samples. Use `zero_division` parameter to control this behavior.\n",
      "  _warn_prf(average, modifier, msg_start, len(result))\n",
      "C:\\Users\\brsam\\anaconda3\\lib\\site-packages\\sklearn\\metrics\\_classification.py:1334: UndefinedMetricWarning: Precision is ill-defined and being set to 0.0 in labels with no predicted samples. Use `zero_division` parameter to control this behavior.\n",
      "  _warn_prf(average, modifier, msg_start, len(result))\n"
     ]
    }
   ],
   "source": [
    "# Precisão\n",
    "\n",
    "for i in range(len(Classificadores)):\n",
    "    precision = metrics.precision_score(y_test,results[i],average=None)\n",
    "    precisao = f\" A precisão do {Classificadores[i]} é {precision}\"\n",
    "    print(precisao)"
   ]
  },
  {
   "cell_type": "code",
   "execution_count": 15,
   "id": "a913461a",
   "metadata": {},
   "outputs": [
    {
     "name": "stdout",
     "output_type": "stream",
     "text": [
      " Os valores encontrado do kNN é [0.94642857 0.92307692 1.         0.99431818]\n",
      " Os valores encontrado do MLP é [0.96428571 0.95652174 1.         1.        ]\n",
      " Os valores encontrado do SGDC é [0.64754098 0.         0.93370166 0.725     ]\n",
      " Os valores encontrado do SVM é [0.58510638 0.         0.86956522 0.6743738 ]\n",
      " Os valores encontrado do DT é [0.93617021 0.82142857 0.99104478 0.94972067]\n",
      " Os valores encontrado do NB é [0.3566879  0.28571429 0.6745098  0.58126195]\n",
      " Os valores encontrado do RF é [0.89189189 0.76510067 1.         0.90439276]\n"
     ]
    }
   ],
   "source": [
    "# F1-Score\n",
    "\n",
    "for i in range(len(Classificadores)):\n",
    "    f1_score = metrics.f1_score(y_test, results[i], average=None)\n",
    "    score = f\" Os valores encontrado do {Classificadores[i]} é {f1_score}\"\n",
    "    print(score)"
   ]
  }
 ],
 "metadata": {
  "kernelspec": {
   "display_name": "Python 3 (ipykernel)",
   "language": "python",
   "name": "python3"
  },
  "language_info": {
   "codemirror_mode": {
    "name": "ipython",
    "version": 3
   },
   "file_extension": ".py",
   "mimetype": "text/x-python",
   "name": "python",
   "nbconvert_exporter": "python",
   "pygments_lexer": "ipython3",
   "version": "3.9.13"
  }
 },
 "nbformat": 4,
 "nbformat_minor": 5
}
