{
 "cells": [
  {
   "cell_type": "markdown",
   "id": "84aec76a",
   "metadata": {},
   "source": [
    "# Tutorial Opencv\n",
    "\n",
    "Este tutorial apresenta conceitos introdutórios de processamento de imagens (filtros) e de visão computacional (segmentação, classificação, reconhecimento de padrão e rastreamento). Estes conceitos serão introduzidos utilizando a biblioteca OpenCV, que é distribuída gratuitamente e possui documentação farta na internet, com exemplos e aplicações práticas. Para utilizar essa biblioteca em python acesse o terminal com ambiente de python ativado e digite `pip install opencv-python`."
   ]
  },
  {
   "cell_type": "markdown",
   "id": "f97e0302",
   "metadata": {},
   "source": [
    "## 1. Lendo um documento e primeiras operações."
   ]
  },
  {
   "cell_type": "markdown",
   "id": "5d470619",
   "metadata": {},
   "source": [
    "![pega_na _pasta_img](img\\img_1.jpg)"
   ]
  },
  {
   "cell_type": "markdown",
   "id": "a30af10f",
   "metadata": {},
   "source": [
    "Este  programa  abre  uma  imagem,  mostra  suas  propriedades  de  largura  e  altura  em pixels, mostra a quantidade de canais utilizados, mostra a imagem na tela, espera o pressionar de  alguma tecla  para  fechar  a  imagem  e  salva  em  disco  a  mesma  imagem  com  o  nome ‘saída.jpg’. Vamos explicar o código em detalhes no decorrer do texto. Mas vamos aplica-lo logo em uma imagem. \n",
    "\n",
    "É importante comentar que cada código abaixo foi rodado em uma IDE (pycharm ou vscode)."
   ]
  },
  {
   "cell_type": "code",
   "execution_count": 1,
   "id": "c84a256f",
   "metadata": {
    "scrolled": true
   },
   "outputs": [
    {
     "name": "stdout",
     "output_type": "stream",
     "text": [
      "Largura em pixels: 300\n",
      "Altura em pixels: 168\n",
      "Qtde de canais: 3\n"
     ]
    },
    {
     "data": {
      "text/plain": [
       "True"
      ]
     },
     "execution_count": 1,
     "metadata": {},
     "output_type": "execute_result"
    }
   ],
   "source": [
    "# Importação das bibliotecas\n",
    "import cv2\n",
    "\n",
    "# Leitura da imagem com a função imread()\n",
    "imagem = cv2.imread('ponte.jpg')\n",
    "\n",
    "print('Largura em pixels: ', end='')\n",
    "print(imagem.shape[1]) #largura da imagem (quantidade de colunas)\n",
    "\n",
    "print('Altura em pixels: ', end='')\n",
    "print(imagem.shape[0]) #altura da imagem (quantidade de linhas)\n",
    "\n",
    "print('Qtde de canais: ', end='')\n",
    "print(imagem.shape[2])\n",
    "\n",
    "# Mostra a imagem com a função imshow\n",
    "cv2.imshow(\"Ponte\", imagem)\n",
    "cv2.waitKey(0) #espera pressionar qualquer tecla\n",
    "# Salvar a imagem no disco com função imwrite()\n",
    "cv2.imwrite(\"saida.jpg\", imagem)\n"
   ]
  },
  {
   "cell_type": "markdown",
   "id": "31677242",
   "metadata": {},
   "source": [
    "Ao fim da excução teremos a mostra da janela abaixo\n",
    "\n",
    "![pega_na _pasta_img](pratica\\img_geradas\\saida.jpg)"
   ]
  },
  {
   "cell_type": "markdown",
   "id": "2ea376b3",
   "metadata": {},
   "source": [
    "A importação da biblioteca padrão da OpenCV é obrigatória para utilizar suas funções. A primeira função usada é para abrir a imagem através de cv2.imread() que leva como argumento o nome do arquivo em disco. A imagem é lida e armazenada em ‘imagem’ que é uma variavel que dará acesso ao objeto da imagem que nada mais é que uma matriz de 3 dimensões (3 canais) contendo em cada dimensão uma das 3 cores do padrão RGB (red=vermelho, green-verde, blue=azul). No caso de uma imagem preto e branca temos apenas um canal, ou seja, apenas uma matriz de 2 dimensões. Para facilitar o entendimento podemos pensar em uma planilha eletrônica, com linhas e colunas, portanto, uma matriz de 2 dimensões. Cada célula dessa matriz é um pixel, que no caso de imagens preto e brancas possuem um valor de 0 a 255, sendo 0 para preto e 255 para branco. Portanto, cada célula contém um inteiro de 8 bits (sem sinal) que em Python é definido por “uint8” que é um unsigned integer de 8 bits."
   ]
  },
  {
   "cell_type": "markdown",
   "id": "abb48b6a",
   "metadata": {},
   "source": [
    "![pega_na _pasta_img](img\\img_2.jpg)"
   ]
  },
  {
   "cell_type": "markdown",
   "id": "65862907",
   "metadata": {},
   "source": [
    "**Figura 1- Imagem preto e branca representada em uma matriz de inteiros onde cada célula é um inteiro sem sinal de 8 bits que pode conter de 0 (preto) até 255 (branco). Perceba os vários tons de cinza nos valores intermediários como 30 (cinza escuro) e 210 (cinza claro).**"
   ]
  },
  {
   "cell_type": "markdown",
   "id": "8569d341",
   "metadata": {},
   "source": [
    "No  caso  de  imagens  preto  e  branca  é  composta  de  apenas  uma  matriz  de  duas  dimensões  como  na  imagem  acima.  Já  para  imagens  coloridas  temos  três  dessas  matrizes  de duas dimensões cada uma representando uma das cores do sistema RGB. Portanto, cada pixel é formado de uma tupla de 3 inteiros de 8 bits sem sinal no sistema (R,G,B) sendo que (0,0,0) representa o preto, (255,255,255) o branco. Nesse sentido, as cores mais comuns são:  \n",
    "\n",
    "Branco - RGB (255,255,255); \n",
    "\n",
    "Azul - RGB (0,0,255); \n",
    "\n",
    "Vermelho - RGB (255,0,0); \n",
    "\n",
    "Verde - RGB (0,255,0); \n",
    "\n",
    "Amarelo - RGB (255,255,0); \n",
    "\n",
    "Magenta - RGB (255,0,255); \n",
    "\n",
    " Ciano - RGB (0,255,255); \n",
    "\n",
    "Preto - RGB (0,0,0). \n",
    "\n",
    "As imagens coloridas, portanto, são compostas normalmente de 3 matrizes de inteiros  sem  sinal  de  8  bits,  a  junção  das  3  matrizes  produz  a  imagem  colorida  com  capacidade  de reprodução de 16,7 milhões de cores, sendo que os 8 bits tem capacidade para 256 valores e  elevando a 3 temos 256³ = 16,7 milhões. "
   ]
  },
  {
   "cell_type": "markdown",
   "id": "635fc2a0",
   "metadata": {},
   "source": [
    "![pega_na _pasta_img](img\\img_3.jpg)"
   ]
  },
  {
   "cell_type": "markdown",
   "id": "18caa00e",
   "metadata": {},
   "source": [
    "**Figura 2- Na imagem temos um exemplo das 3 matrizes que compõe o sistema RGB. Cada pixel da imagem, portanto, é composto por 3 componentes de 8 bits cada, sem sinal, o que gera 256 combinações por cor. Portanto, a representação é de 256 vezes 256 vezes 256 ou 256³ que é igual a 16,7 milhões de cores.**"
   ]
  },
  {
   "cell_type": "markdown",
   "id": "34f2f765",
   "metadata": {},
   "source": [
    "## 2. Sistema de coordenadas e manipulação de pixels"
   ]
  },
  {
   "cell_type": "markdown",
   "id": "a6297ff2",
   "metadata": {},
   "source": [
    "Podemos  alterar  a  cor  individualmente  para  cada  pixel, ou seja, podemos manipular individualmente cada pixel da imagem.  Para isso é importante entender o sistema de coordenadas (linha, coluna) onde o pixel mais a esquerda e acima da imagem esta na posição (0,0) esta na linha zero e coluna zero. Já em uma imagem com 300 pixels de largura, ou seja, 300 colunas e tendo 200 pixels de altura,  ou  seja,  200  linhas,  terá  o  pixel  (199,299)  como  sendo  o  pixel  mais  a  direita  e  abaixo  da imagem.  "
   ]
  },
  {
   "cell_type": "markdown",
   "id": "b7244642",
   "metadata": {},
   "source": [
    "![pega_na _pasta_img](img\\img_4.jpg)"
   ]
  },
  {
   "cell_type": "markdown",
   "id": "c532c464",
   "metadata": {},
   "source": [
    "**Figura 3- O sistema de coordenadas envolve uma linha e coluna. Os índices iniciam em zero. O pixel (2,8), ou seja, na linha índice 2 que é a terceira linha e na coluna índice 8 que é a nona linha possui a cor 50.**"
   ]
  },
  {
   "cell_type": "markdown",
   "id": "cf71aded",
   "metadata": {},
   "source": [
    "A partir do entendimento do sistema de coordenadas é possível alterar individualmente cada pixel ou ler a informação individual do pixel conforme abaixo:"
   ]
  },
  {
   "cell_type": "code",
   "execution_count": null,
   "id": "71ec9c97",
   "metadata": {},
   "outputs": [],
   "source": [
    "imagem = cv2.imread('ponte.jpg') \n",
    "(b, g, r) = imagem[0, 0] #veja que a ordem BGR e não RGB\n",
    "\n",
    "#Uma observação que podemos fazer aqui é a equivalencia entre imagem[y, x] com imagem[y][x]\n",
    "\n",
    "print(len(imagem[0]))"
   ]
  },
  {
   "cell_type": "markdown",
   "id": "80583994",
   "metadata": {},
   "source": [
    "Imagens são matrizes Numpy neste caso retornadas pelo método “imread” e armazenada em memória através da variável “imagem” conforme acima. Lembre-se que o pixel superior mais a esquerda é o (0,0). No código é retornado na tupla (b, g, r) os respectivos valores das cores do pixel superior mais a esquerda. Veja que o método retorna a sequência BGR e não RGB como poderiamos esperar. Tendo os valores inteiros de cada cor é possível exibi-los na tela com o código abaixo:"
   ]
  },
  {
   "cell_type": "code",
   "execution_count": null,
   "id": "d4314099",
   "metadata": {
    "scrolled": false
   },
   "outputs": [],
   "source": [
    "print('O pixel (0, 0) tem as seguintes cores:') \n",
    "print('Vermelho:', r, 'Verde:', g, 'Azul:', b)"
   ]
  },
  {
   "cell_type": "markdown",
   "id": "df14eab7",
   "metadata": {},
   "source": [
    "Outra possibilidade é utilizar dois laços de repetição para “varrer” todos os pixels da  imagem, linha por linha como é o caso do código abaixo. Importante notar que esta estratégia pode  não  ser  muito  performática  já  que  é  um  processo  lento  varrer  toda  a imagem  pixel  a pixel."
   ]
  },
  {
   "cell_type": "code",
   "execution_count": null,
   "id": "b395a7ad",
   "metadata": {},
   "outputs": [],
   "source": [
    "import cv2\n",
    "\n",
    "imagem = cv2.imread('ponte.jpg') \n",
    "for y in range(0, imagem.shape[0]):\n",
    "    for x in range(0, imagem.shape[1]):\n",
    "        imagem[y, x] = (255,0,0)\n",
    "cv2.imshow(\"Imagem modificada\", saida_azul)\n",
    "cv2.waitKey(0) \n"
   ]
  },
  {
   "cell_type": "markdown",
   "id": "14235169",
   "metadata": {},
   "source": [
    "O resultado é uma imagem com todos os pixels substituídos pela cor azul (255,0,0), como mostra a janela abaixo:\n",
    "\n",
    "\n",
    "![pega_na _pasta_img](Prática\\img_geradas\\Imagem_modificada.jpg)"
   ]
  },
  {
   "cell_type": "markdown",
   "id": "19c5c6a2",
   "metadata": {},
   "source": [
    "**Figura 5 Imagem completamente azul pela alteração de todos os pixels para (255,0,0). Lembrando que o  padrão RGB é na verdade BRG pela tupla (B, R, G).**"
   ]
  },
  {
   "cell_type": "markdown",
   "id": "ad3b9d88",
   "metadata": {},
   "source": [
    "Com uma  modificação temos o código abaixo. O objetivo agora é saltar  a cada 10 pixels ao percorrer as linhas e mais 10 pixels ao percorrer as colunas. A cada salto é criado um quadrado amarelo de 5x5 pixels. Desta vez parte da imagem original é preservada e  podemos ainda observar a ponte por baixo da grade de quadrados amarelos. \n"
   ]
  },
  {
   "cell_type": "code",
   "execution_count": 2,
   "id": "6808e41a",
   "metadata": {},
   "outputs": [
    {
     "data": {
      "text/plain": [
       "-1"
      ]
     },
     "execution_count": 2,
     "metadata": {},
     "output_type": "execute_result"
    }
   ],
   "source": [
    "import cv2 \n",
    "\n",
    "imagem = cv2.imread('ponte.jpg') \n",
    "for y in range(0, imagem.shape[0], 10): #percorre linhas\n",
    "    for x in range(0, imagem.shape[1], 10): #percorre colunas\n",
    "        imagem[y:y+5, x: x+5] = (0,255,255)\n",
    "cv2.imshow(\"Imagem modificada\", imagem) \n",
    "cv2.waitKey(0) "
   ]
  },
  {
   "cell_type": "markdown",
   "id": "925700a9",
   "metadata": {},
   "source": [
    "![pega_na _pasta_img](Pratica\\img\\quadrados_amarelos.jpg)"
   ]
  },
  {
   "cell_type": "markdown",
   "id": "c096c8e6",
   "metadata": {},
   "source": [
    "**Figura 6 Código gerou quadrados amarelos de 5x5 pixels sobre a toda a imagem.**"
   ]
  },
  {
   "cell_type": "markdown",
   "id": "7df6526d",
   "metadata": {},
   "source": [
    "é de grande importância entender o sistema de coordenadas em uma imagem, tendo em vista os cortes que podemos fazer na mesma."
   ]
  },
  {
   "cell_type": "markdown",
   "id": "ab6f5ec9",
   "metadata": {},
   "source": [
    "### 3. Cortando uma imagem / Crop\n",
    "Veja  o  código  abaixo onde criamos uma nova imagem a partir de um pedaço da imagem original (ROI) e a salvamos no\n",
    "disco."
   ]
  },
  {
   "cell_type": "code",
   "execution_count": 1,
   "id": "bf74c800",
   "metadata": {},
   "outputs": [
    {
     "data": {
      "text/plain": [
       "True"
      ]
     },
     "execution_count": 1,
     "metadata": {},
     "output_type": "execute_result"
    }
   ],
   "source": [
    "import cv2\n",
    "imagem = cv2.imread('ponte.jpg')\n",
    "recorte = imagem[100:200, 100:200]\n",
    "cv2.imshow(\"Recorte da imagem\", recorte)\n",
    "cv2.imwrite(\"img/recorte.jpg\", recorte) #salva no disco "
   ]
  },
  {
   "cell_type": "markdown",
   "id": "77a65cfa",
   "metadata": {},
   "source": [
    "![pega_na _pasta_img](Pratica\\img\\recorte.jpg)\n",
    "\n",
    "**Figura 7 Imagem recortada da imagem original**"
   ]
  },
  {
   "cell_type": "code",
   "execution_count": null,
   "id": "518ed916",
   "metadata": {},
   "outputs": [],
   "source": []
  },
  {
   "cell_type": "code",
   "execution_count": null,
   "id": "8d883404",
   "metadata": {},
   "outputs": [],
   "source": []
  }
 ],
 "metadata": {
  "kernelspec": {
   "display_name": "Python 3 (ipykernel)",
   "language": "python",
   "name": "python3"
  },
  "language_info": {
   "codemirror_mode": {
    "name": "ipython",
    "version": 3
   },
   "file_extension": ".py",
   "mimetype": "text/x-python",
   "name": "python",
   "nbconvert_exporter": "python",
   "pygments_lexer": "ipython3",
   "version": "3.9.7"
  }
 },
 "nbformat": 4,
 "nbformat_minor": 5
}
