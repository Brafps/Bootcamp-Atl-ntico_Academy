{
 "cells": [
  {
   "cell_type": "markdown",
   "id": "cd95ebb2",
   "metadata": {},
   "source": [
    "# Relatório"
   ]
  },
  {
   "cell_type": "code",
   "execution_count": 2,
   "id": "48c8ce7f",
   "metadata": {},
   "outputs": [
    {
     "name": "stdout",
     "output_type": "stream",
     "text": [
      "setup ok!\n"
     ]
    }
   ],
   "source": [
    "# Bibliotecas Usadas\n",
    "\n",
    "import os\n",
    "import random\n",
    "import cv2\n",
    "import matplotlib.pyplot as plt\n",
    "import numpy as np\n",
    "print(\"setup ok!\")"
   ]
  },
  {
   "cell_type": "code",
   "execution_count": 3,
   "id": "9db59481",
   "metadata": {},
   "outputs": [],
   "source": [
    "#Caminho onde estão localizados os arquivos de imagem\n",
    "caminho_benigno = r'DataSet\\all_nods_benignos'\n",
    "\n",
    "caminho_maligno = r'DataSet\\all_nods_malignos'\n",
    "\n",
    "#Montando as listas com os nomes dos arquivos\n",
    "for root, dirs, files in os.walk(caminho_benigno):\n",
    "    dataset_benigno = [file for file in files]\n",
    "\n",
    "for root, dirs, files in os.walk(caminho_maligno):\n",
    "    dataset_maligno = [file for file in files]\n",
    "\n",
    "dataset = sorted(dataset_benigno + dataset_maligno)\n",
    "\n",
    "\n",
    "#Selecionando uma imagem qualquer\n",
    "img_selecionada = random.choice(dataset)\n",
    "\n",
    "\n",
    "#Definindo o caminho para uso da função cv2.read() e posterior mostra da imagem.\n",
    "if img_selecionada in dataset_benigno:\n",
    "    path = caminho_benigno + \"\\\\\" + img_selecionada\n",
    "    img = cv2.imread(path)\n",
    "else:\n",
    "    path = caminho_maligno + \"\\\\\" + img_selecionada\n",
    "    img = cv2.imread(path)\n",
    "\n",
    "#fazendo a conversão para tons de cinza\n",
    "img = cv2.cvtColor(img, cv2.COLOR_BGR2GRAY)\n",
    "\n"
   ]
  },
  {
   "cell_type": "code",
   "execution_count": 4,
   "id": "e6451a6f",
   "metadata": {
    "scrolled": true
   },
   "outputs": [
    {
     "data": {
      "image/png": "[encoded data removed]",
      "text/plain": [
       "<Figure size 432x288 with 1 Axes>"
      ]
     },
     "metadata": {
      "needs_background": "light"
     },
     "output_type": "display_data"
    },
    {
     "data": {
      "text/plain": [
       "-1"
      ]
     },
     "execution_count": 4,
     "metadata": {},
     "output_type": "execute_result"
    }
   ],
   "source": [
    "#Mostrando a imagem original\n",
    "cv2.imshow(f\"Imagem {img_selecionada}\", img)\n",
    "\n",
    "\n",
    "#montando o histograma da imagem\n",
    "h = cv2.calcHist([img], [0], None, [256], [0, 256])\n",
    "plt.figure()\n",
    "plt.title(\"Histograma da imagem\")\n",
    "plt.xlabel(\"Intensidade\")\n",
    "plt.ylabel(\"Qtde de Pixels\")\n",
    "plt.plot(h)\n",
    "plt.xlim([0, 256])\n",
    "plt.show()\n",
    "\n",
    "cv2.waitKey(0)"
   ]
  },
  {
   "cell_type": "code",
   "execution_count": 5,
   "id": "c2290280",
   "metadata": {},
   "outputs": [
    {
     "name": "stdout",
     "output_type": "stream",
     "text": [
      "digite o valor do limite a ser usado:145\n"
     ]
    },
    {
     "data": {
      "text/plain": [
       "-1"
      ]
     },
     "execution_count": 5,
     "metadata": {},
     "output_type": "execute_result"
    }
   ],
   "source": [
    "#Fazendo suavização pelo filtro gausiano e verificando a binarização da imagem\n",
    "lim = int(input(\"digite o valor do limite a ser usado:\"))\n",
    "\n",
    "suave = cv2.GaussianBlur(img, (7, 7), 0) # aplica blur\n",
    "(T, bin) = cv2.threshold(suave, lim, 255, cv2.THRESH_BINARY)\n",
    "(T, binI) = cv2.threshold(suave, lim, 255, cv2.THRESH_BINARY_INV)\n",
    "resultado = np.vstack([\n",
    "    np.hstack([suave, bin]),\n",
    "    np.hstack([binI, cv2.bitwise_and(img, img, mask = binI)])\n",
    "    ])\n",
    "\n",
    "cv2.imshow(f\"Binarização da imagem {img_selecionada}\", resultado)\n",
    "cv2.waitKey(0)"
   ]
  }
 ],
 "metadata": {
  "kernelspec": {
   "display_name": "Python 3 (ipykernel)",
   "language": "python",
   "name": "python3"
  },
  "language_info": {
   "codemirror_mode": {
    "name": "ipython",
    "version": 3
   },
   "file_extension": ".py",
   "mimetype": "text/x-python",
   "name": "python",
   "nbconvert_exporter": "python",
   "pygments_lexer": "ipython3",
   "version": "3.9.7"
  }
 },
 "nbformat": 4,
 "nbformat_minor": 5
}
